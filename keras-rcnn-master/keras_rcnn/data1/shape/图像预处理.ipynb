{
 "cells": [
  {
   "cell_type": "code",
   "execution_count": 22,
   "metadata": {},
   "outputs": [],
   "source": [
    "import pandas as pd\n",
    "from PIL import Image  #Python的图像处理库\n",
    "import numpy as np\n",
    "import os\n",
    "from random import shuffle\n",
    "import matplotlib.pyplot as plt\n",
    "import gc"
   ]
  },
  {
   "cell_type": "code",
   "execution_count": 23,
   "metadata": {},
   "outputs": [],
   "source": [
    "DIR = 'image'\n"
   ]
  },
  {
   "cell_type": "code",
   "execution_count": 5,
   "metadata": {},
   "outputs": [],
   "source": [
    "IMG_SIZE = 224\n",
    "def read_pic_data_from_file(DIR):\n",
    "    pic_df = []\n",
    "    for i in os.listdir(DIR):\n",
    "        path = os.path.join(DIR,i) #找到图片路径\n",
    "        img = Image.open(path)  #根据路径打开图片\n",
    "        #img = img.convert('L')   \n",
    "        img = img.resize((IMG_SIZE, IMG_SIZE), Image.ANTIALIAS)\n",
    "        pic_info = np.array(img)\n",
    "        pic_df.append(pic_info)\n",
    "    return pic_df"
   ]
  },
  {
   "cell_type": "code",
   "execution_count": 3,
   "metadata": {},
   "outputs": [],
   "source": [
    "img = Image.open('image/2.jpg')\n",
    "new_image = img.resize((224,224),Image.BILINEAR)\n",
    "\n",
    "new_image.save(os.path.join('im',os.path.basename('image/2.jpg')))"
   ]
  },
  {
   "cell_type": "code",
   "execution_count": 10,
   "metadata": {},
   "outputs": [],
   "source": [
    "def img_resize(img_file, path_save, width,height):\n",
    "    img = Image.open(img_file)\n",
    "    new_image = img.resize((width,height),Image.BILINEAR)\n",
    "    new_image.save(os.path.join(path_save,os.path.basename(img_file)))\n"
   ]
  },
  {
   "cell_type": "code",
   "execution_count": 24,
   "metadata": {},
   "outputs": [],
   "source": [
    "for i in os.listdir(DIR):\n",
    "        path = os.path.join(DIR,i) #找到图片路径\n",
    "       # img_resize(path,\"im\",224,224)  #根据路径打开图片\n",
    "        img = Image.open(path)        \n",
    "        new_image = img.resize((224,224),Image.BILINEAR)\n",
    "        new_image=new_image.convert('RGB')\n",
    "        new_image.save(os.path.join('im',os.path.basename(path)))\n"
   ]
  },
  {
   "cell_type": "code",
   "execution_count": null,
   "metadata": {},
   "outputs": [],
   "source": []
  },
  {
   "cell_type": "code",
   "execution_count": null,
   "metadata": {},
   "outputs": [],
   "source": []
  },
  {
   "cell_type": "code",
   "execution_count": null,
   "metadata": {},
   "outputs": [],
   "source": []
  },
  {
   "cell_type": "code",
   "execution_count": null,
   "metadata": {},
   "outputs": [],
   "source": []
  },
  {
   "cell_type": "code",
   "execution_count": null,
   "metadata": {},
   "outputs": [],
   "source": []
  },
  {
   "cell_type": "code",
   "execution_count": null,
   "metadata": {},
   "outputs": [],
   "source": []
  },
  {
   "cell_type": "code",
   "execution_count": null,
   "metadata": {},
   "outputs": [],
   "source": []
  },
  {
   "cell_type": "code",
   "execution_count": null,
   "metadata": {},
   "outputs": [],
   "source": []
  },
  {
   "cell_type": "code",
   "execution_count": null,
   "metadata": {},
   "outputs": [],
   "source": []
  },
  {
   "cell_type": "code",
   "execution_count": 1,
   "metadata": {},
   "outputs": [],
   "source": [
    "import argparse\n",
    "import json\n",
    "import os\n",
    "import os.path as osp\n",
    "import warnings\n",
    "import os.path\n",
    "import subprocess\n",
    "import numpy as np\n",
    "import PIL.Image\n",
    "import yaml\n",
    "import cv2\n",
    "import yaml\n",
    "from labelme import utils \n"
   ]
  },
  {
   "cell_type": "code",
   "execution_count": 19,
   "metadata": {},
   "outputs": [
    {
     "data": {
      "text/plain": [
       "dict"
      ]
     },
     "execution_count": 19,
     "metadata": {},
     "output_type": "execute_result"
    }
   ],
   "source": [
    "json_file = 'C:/Users/zhuhuiling/Desktop/total/1_1_son'\n",
    "list = os.listdir(json_file)\n",
    "path = os.path.join(json_file, list[1])\n",
    "json.load(open(path))"
   ]
  },
  {
   "cell_type": "code",
   "execution_count": 12,
   "metadata": {},
   "outputs": [
    {
     "ename": "UnicodeDecodeError",
     "evalue": "'gbk' codec can't decode byte 0xe0 in position 19: illegal multibyte sequence",
     "output_type": "error",
     "traceback": [
      "\u001b[1;31m---------------------------------------------------------------------------\u001b[0m",
      "\u001b[1;31mUnicodeDecodeError\u001b[0m                        Traceback (most recent call last)",
      "\u001b[1;32m<ipython-input-12-9a454d563c25>\u001b[0m in \u001b[0;36m<module>\u001b[1;34m()\u001b[0m\n\u001b[0;32m      2\u001b[0m         \u001b[0mpath\u001b[0m \u001b[1;33m=\u001b[0m \u001b[0mos\u001b[0m\u001b[1;33m.\u001b[0m\u001b[0mpath\u001b[0m\u001b[1;33m.\u001b[0m\u001b[0mjoin\u001b[0m\u001b[1;33m(\u001b[0m\u001b[0mjson_file\u001b[0m\u001b[1;33m,\u001b[0m \u001b[0mlist\u001b[0m\u001b[1;33m[\u001b[0m\u001b[0mi\u001b[0m\u001b[1;33m]\u001b[0m\u001b[1;33m)\u001b[0m\u001b[1;33m\u001b[0m\u001b[0m\n\u001b[0;32m      3\u001b[0m         \u001b[1;32mif\u001b[0m \u001b[0mos\u001b[0m\u001b[1;33m.\u001b[0m\u001b[0mpath\u001b[0m\u001b[1;33m.\u001b[0m\u001b[0misfile\u001b[0m\u001b[1;33m(\u001b[0m\u001b[0mpath\u001b[0m\u001b[1;33m)\u001b[0m\u001b[1;33m:\u001b[0m\u001b[1;33m\u001b[0m\u001b[0m\n\u001b[1;32m----> 4\u001b[1;33m             \u001b[0mdata\u001b[0m \u001b[1;33m=\u001b[0m \u001b[0mjson\u001b[0m\u001b[1;33m.\u001b[0m\u001b[0mload\u001b[0m\u001b[1;33m(\u001b[0m\u001b[0mopen\u001b[0m\u001b[1;33m(\u001b[0m\u001b[0mpath\u001b[0m\u001b[1;33m)\u001b[0m\u001b[1;33m)\u001b[0m\u001b[1;33m\u001b[0m\u001b[0m\n\u001b[0m\u001b[0;32m      5\u001b[0m             \u001b[0mimg\u001b[0m \u001b[1;33m=\u001b[0m \u001b[0mutils\u001b[0m\u001b[1;33m.\u001b[0m\u001b[0mimage\u001b[0m\u001b[1;33m.\u001b[0m\u001b[0mimg_b64_to_arr\u001b[0m\u001b[1;33m(\u001b[0m\u001b[0mdata\u001b[0m\u001b[1;33m[\u001b[0m\u001b[1;34m'imageData'\u001b[0m\u001b[1;33m]\u001b[0m\u001b[1;33m)\u001b[0m\u001b[1;33m\u001b[0m\u001b[0m\n\u001b[0;32m      6\u001b[0m             \u001b[0mlbl\u001b[0m\u001b[1;33m,\u001b[0m \u001b[0mlbl_names\u001b[0m \u001b[1;33m=\u001b[0m \u001b[0mutils\u001b[0m\u001b[1;33m.\u001b[0m\u001b[0mlabelme_shapes_to_label\u001b[0m\u001b[1;33m(\u001b[0m\u001b[0mimg\u001b[0m\u001b[1;33m.\u001b[0m\u001b[0mshape\u001b[0m\u001b[1;33m,\u001b[0m \u001b[0mdata\u001b[0m\u001b[1;33m[\u001b[0m\u001b[1;34m'shapes'\u001b[0m\u001b[1;33m]\u001b[0m\u001b[1;33m)\u001b[0m\u001b[1;33m\u001b[0m\u001b[0m\n",
      "\u001b[1;32mD:\\Anaconda3\\lib\\json\\__init__.py\u001b[0m in \u001b[0;36mload\u001b[1;34m(fp, cls, object_hook, parse_float, parse_int, parse_constant, object_pairs_hook, **kw)\u001b[0m\n\u001b[0;32m    294\u001b[0m \u001b[1;33m\u001b[0m\u001b[0m\n\u001b[0;32m    295\u001b[0m     \"\"\"\n\u001b[1;32m--> 296\u001b[1;33m     return loads(fp.read(),\n\u001b[0m\u001b[0;32m    297\u001b[0m         \u001b[0mcls\u001b[0m\u001b[1;33m=\u001b[0m\u001b[0mcls\u001b[0m\u001b[1;33m,\u001b[0m \u001b[0mobject_hook\u001b[0m\u001b[1;33m=\u001b[0m\u001b[0mobject_hook\u001b[0m\u001b[1;33m,\u001b[0m\u001b[1;33m\u001b[0m\u001b[0m\n\u001b[0;32m    298\u001b[0m         \u001b[0mparse_float\u001b[0m\u001b[1;33m=\u001b[0m\u001b[0mparse_float\u001b[0m\u001b[1;33m,\u001b[0m \u001b[0mparse_int\u001b[0m\u001b[1;33m=\u001b[0m\u001b[0mparse_int\u001b[0m\u001b[1;33m,\u001b[0m\u001b[1;33m\u001b[0m\u001b[0m\n",
      "\u001b[1;31mUnicodeDecodeError\u001b[0m: 'gbk' codec can't decode byte 0xe0 in position 19: illegal multibyte sequence"
     ]
    }
   ],
   "source": [
    "for i in range(0, len(list)):\n",
    "        path = os.path.join(json_file, list[i])\n",
    "        if os.path.isfile(path):\n",
    "            data = json.load(open(path))\n",
    "            img = utils.image.img_b64_to_arr(data['imageData'])\n",
    "            lbl, lbl_names = utils.labelme_shapes_to_label(img.shape, data['shapes'])\n",
    "            captions = ['%d: %s' % (l, name) for l, name in enumerate(lbl_names)]\n",
    "            lbl_viz = utils.draw_label(lbl, img, captions)\n",
    "            out_dir = osp.basename(list[i]).replace('.', '_')\n",
    "            out_dir = osp.join(osp.dirname(list[i]), out_dir)\n",
    "            out_dir=json_file+\"/\"+out_dir\n",
    "            if not osp.exists(out_dir):\n",
    "                os.mkdir(out_dir)\n",
    "            PIL.Image.fromarray(img).save(osp.join(out_dir, 'img.png'))\n",
    "            # PIL.Image.fromarray(lbl).save()\n",
    "            labelpath = osp.join(out_dir, 'label.png')\n",
    "            # PIL.Image.fromarray(lbl).save(labelpath)\n",
    "            # opencvimg16 = cv2.imread(labelpath)\n",
    "            # opencvimg.convertTo(opencvimg6,)\n",
    "            lbl8u=np.zeros((lbl.shape[0],lbl.shape[1]),dtype=np.uint8)\n",
    "            for i in range(lbl.shape[0]):\n",
    "                for j in range(lbl.shape[1]):\n",
    "                    lbl8u[i,j]=lbl[i,j]\n",
    "            PIL.Image.fromarray(lbl8u).save(labelpath);\n",
    "            # Alllabelpath=\"%s\"\n",
    "        PIL.Image.fromarray(lbl_viz).save(osp.join(out_dir, 'label_viz.png'))\n",
    "        with open(osp.join(out_dir, 'label_names.txt'), 'w') as f:\n",
    "            for lbl_name in lbl_names:\n",
    "                f.write(lbl_name + '\\n')\n",
    "        warnings.warn('info.yaml is being replaced by label_names.txt')\n",
    "        info = dict(label_names=lbl_names)\n",
    "        with open(osp.join(out_dir, 'info.yaml'), 'w') as f:\n",
    "            yaml.dump(info, f, default_flow_style=False)\n",
    "        fov=open(osp.join(out_dir,'info.yaml'),'w')\n",
    "        for key in info:\n",
    "            fov.writelines(key)\n",
    "            fov.write(':\\n')\n",
    "        for k,v in lbl_names.items():\n",
    "            fov.write('  ')\n",
    "            fov.write(k)\n",
    "            fov.write(':\\n')\n",
    "        fov.close()\n",
    "        print('Saved to: %s' % out_dir)\n",
    "\n",
    " \n"
   ]
  },
  {
   "cell_type": "code",
   "execution_count": 4,
   "metadata": {},
   "outputs": [],
   "source": [
    "def main():\n",
    "     #改为自己的打标好存放jison文件的路径\n",
    "    json_file = 'C:/Users/zhuhuiling/Desktop/images'\n",
    "    list = os.listdir(json_file)\n",
    "    for i in range(0, len(list)):\n",
    "        path = os.path.join(json_file, list[i])\n",
    "        if os.path.isfile(path):\n",
    "            data = json.load(open(path))\n",
    "            img = utils.image.img_b64_to_arr(data['imageData'])\n",
    "            lbl, lbl_names = utils.labelme_shapes_to_label(img.shape, data['shapes'])\n",
    "            captions = ['%d: %s' % (l, name) for l, name in enumerate(lbl_names)]\n",
    "            lbl_viz = utils.draw_label(lbl, img, captions)\n",
    "            out_dir = osp.basename(list[i]).replace('.', '_')\n",
    "            out_dir = osp.join(osp.dirname(list[i]), out_dir)\n",
    "            out_dir=json_file+\"/\"+out_dir\n",
    "            if not osp.exists(out_dir):\n",
    "                os.mkdir(out_dir)\n",
    "            PIL.Image.fromarray(img).save(osp.join(out_dir, 'img.png'))\n",
    "            # PIL.Image.fromarray(lbl).save()\n",
    "            labelpath = osp.join(out_dir, 'label.png')\n",
    "            # PIL.Image.fromarray(lbl).save(labelpath)\n",
    "            # opencvimg16 = cv2.imread(labelpath)\n",
    "            # opencvimg.convertTo(opencvimg6,)\n",
    "            lbl8u=np.zeros((lbl.shape[0],lbl.shape[1]),dtype=np.uint8)\n",
    "            for i in range(lbl.shape[0]):\n",
    "                for j in range(lbl.shape[1]):\n",
    "                    lbl8u[i,j]=lbl[i,j]\n",
    "            PIL.Image.fromarray(lbl8u).save(labelpath);\n",
    "            # Alllabelpath=\"%s\"\n",
    "        PIL.Image.fromarray(lbl_viz).save(osp.join(out_dir, 'label_viz.png'))\n",
    "        with open(osp.join(out_dir, 'label_names.txt'), 'w') as f:\n",
    "            for lbl_name in lbl_names:\n",
    "                f.write(lbl_name + '\\n')\n",
    "        warnings.warn('info.yaml is being replaced by label_names.txt')\n",
    "        info = dict(label_names=lbl_names)\n",
    "        with open(osp.join(out_dir, 'info.yaml'), 'w') as f:\n",
    "            yaml.dump(info, f, default_flow_style=False)\n",
    "        fov=open(osp.join(out_dir,'info.yaml'),'w')\n",
    "        for key in info:\n",
    "            fov.writelines(key)\n",
    "            fov.write(':\\n')\n",
    "        for k,v in lbl_names.items():\n",
    "            fov.write('  ')\n",
    "            fov.write(k)\n",
    "            fov.write(':\\n')\n",
    "        fov.close()\n",
    "        print('Saved to: %s' % out_dir)\n",
    "\n",
    " \n",
    "\n",
    " \n",
    "\n"
   ]
  },
  {
   "cell_type": "code",
   "execution_count": 5,
   "metadata": {},
   "outputs": [
    {
     "ename": "UnicodeDecodeError",
     "evalue": "'gbk' codec can't decode byte 0xe0 in position 19: illegal multibyte sequence",
     "output_type": "error",
     "traceback": [
      "\u001b[1;31m---------------------------------------------------------------------------\u001b[0m",
      "\u001b[1;31mUnicodeDecodeError\u001b[0m                        Traceback (most recent call last)",
      "\u001b[1;32m<ipython-input-5-ce79c1e4b484>\u001b[0m in \u001b[0;36m<module>\u001b[1;34m()\u001b[0m\n\u001b[0;32m      1\u001b[0m \u001b[1;32mif\u001b[0m \u001b[0m__name__\u001b[0m \u001b[1;33m==\u001b[0m \u001b[1;34m'__main__'\u001b[0m\u001b[1;33m:\u001b[0m\u001b[1;33m\u001b[0m\u001b[0m\n\u001b[0;32m      2\u001b[0m \u001b[1;33m\u001b[0m\u001b[0m\n\u001b[1;32m----> 3\u001b[1;33m     \u001b[0mmain\u001b[0m\u001b[1;33m(\u001b[0m\u001b[1;33m)\u001b[0m\u001b[1;33m\u001b[0m\u001b[0m\n\u001b[0m",
      "\u001b[1;32m<ipython-input-4-6d36f7230d6d>\u001b[0m in \u001b[0;36mmain\u001b[1;34m()\u001b[0m\n\u001b[0;32m      6\u001b[0m         \u001b[0mpath\u001b[0m \u001b[1;33m=\u001b[0m \u001b[0mos\u001b[0m\u001b[1;33m.\u001b[0m\u001b[0mpath\u001b[0m\u001b[1;33m.\u001b[0m\u001b[0mjoin\u001b[0m\u001b[1;33m(\u001b[0m\u001b[0mjson_file\u001b[0m\u001b[1;33m,\u001b[0m \u001b[0mlist\u001b[0m\u001b[1;33m[\u001b[0m\u001b[0mi\u001b[0m\u001b[1;33m]\u001b[0m\u001b[1;33m)\u001b[0m\u001b[1;33m\u001b[0m\u001b[0m\n\u001b[0;32m      7\u001b[0m         \u001b[1;32mif\u001b[0m \u001b[0mos\u001b[0m\u001b[1;33m.\u001b[0m\u001b[0mpath\u001b[0m\u001b[1;33m.\u001b[0m\u001b[0misfile\u001b[0m\u001b[1;33m(\u001b[0m\u001b[0mpath\u001b[0m\u001b[1;33m)\u001b[0m\u001b[1;33m:\u001b[0m\u001b[1;33m\u001b[0m\u001b[0m\n\u001b[1;32m----> 8\u001b[1;33m             \u001b[0mdata\u001b[0m \u001b[1;33m=\u001b[0m \u001b[0mjson\u001b[0m\u001b[1;33m.\u001b[0m\u001b[0mload\u001b[0m\u001b[1;33m(\u001b[0m\u001b[0mopen\u001b[0m\u001b[1;33m(\u001b[0m\u001b[0mpath\u001b[0m\u001b[1;33m)\u001b[0m\u001b[1;33m)\u001b[0m\u001b[1;33m\u001b[0m\u001b[0m\n\u001b[0m\u001b[0;32m      9\u001b[0m             \u001b[0mimg\u001b[0m \u001b[1;33m=\u001b[0m \u001b[0mutils\u001b[0m\u001b[1;33m.\u001b[0m\u001b[0mimage\u001b[0m\u001b[1;33m.\u001b[0m\u001b[0mimg_b64_to_arr\u001b[0m\u001b[1;33m(\u001b[0m\u001b[0mdata\u001b[0m\u001b[1;33m[\u001b[0m\u001b[1;34m'imageData'\u001b[0m\u001b[1;33m]\u001b[0m\u001b[1;33m)\u001b[0m\u001b[1;33m\u001b[0m\u001b[0m\n\u001b[0;32m     10\u001b[0m             \u001b[0mlbl\u001b[0m\u001b[1;33m,\u001b[0m \u001b[0mlbl_names\u001b[0m \u001b[1;33m=\u001b[0m \u001b[0mutils\u001b[0m\u001b[1;33m.\u001b[0m\u001b[0mlabelme_shapes_to_label\u001b[0m\u001b[1;33m(\u001b[0m\u001b[0mimg\u001b[0m\u001b[1;33m.\u001b[0m\u001b[0mshape\u001b[0m\u001b[1;33m,\u001b[0m \u001b[0mdata\u001b[0m\u001b[1;33m[\u001b[0m\u001b[1;34m'shapes'\u001b[0m\u001b[1;33m]\u001b[0m\u001b[1;33m)\u001b[0m\u001b[1;33m\u001b[0m\u001b[0m\n",
      "\u001b[1;32mD:\\Anaconda3\\lib\\json\\__init__.py\u001b[0m in \u001b[0;36mload\u001b[1;34m(fp, cls, object_hook, parse_float, parse_int, parse_constant, object_pairs_hook, **kw)\u001b[0m\n\u001b[0;32m    294\u001b[0m \u001b[1;33m\u001b[0m\u001b[0m\n\u001b[0;32m    295\u001b[0m     \"\"\"\n\u001b[1;32m--> 296\u001b[1;33m     return loads(fp.read(),\n\u001b[0m\u001b[0;32m    297\u001b[0m         \u001b[0mcls\u001b[0m\u001b[1;33m=\u001b[0m\u001b[0mcls\u001b[0m\u001b[1;33m,\u001b[0m \u001b[0mobject_hook\u001b[0m\u001b[1;33m=\u001b[0m\u001b[0mobject_hook\u001b[0m\u001b[1;33m,\u001b[0m\u001b[1;33m\u001b[0m\u001b[0m\n\u001b[0;32m    298\u001b[0m         \u001b[0mparse_float\u001b[0m\u001b[1;33m=\u001b[0m\u001b[0mparse_float\u001b[0m\u001b[1;33m,\u001b[0m \u001b[0mparse_int\u001b[0m\u001b[1;33m=\u001b[0m\u001b[0mparse_int\u001b[0m\u001b[1;33m,\u001b[0m\u001b[1;33m\u001b[0m\u001b[0m\n",
      "\u001b[1;31mUnicodeDecodeError\u001b[0m: 'gbk' codec can't decode byte 0xe0 in position 19: illegal multibyte sequence"
     ]
    }
   ],
   "source": [
    "if __name__ == '__main__':\n",
    "\n",
    "    main()\n"
   ]
  },
  {
   "cell_type": "code",
   "execution_count": 8,
   "metadata": {},
   "outputs": [
    {
     "data": {
      "text/plain": [
       "'0044d725-92e9-4870-a83d-82893a86c6b9.png'"
      ]
     },
     "execution_count": 8,
     "metadata": {},
     "output_type": "execute_result"
    }
   ],
   "source": [
    "json_file = 'C:/Users/zhuhuiling/Desktop/images'\n",
    "list = os.listdir(json_file)\n",
    "list[1]"
   ]
  },
  {
   "cell_type": "code",
   "execution_count": 9,
   "metadata": {},
   "outputs": [],
   "source": [
    "json_file = 'C:/Users/zhuhuiling/Desktop/images'\n",
    "list = os.listdir(json_file)\n",
    "for i in range(0, len(list)):\n",
    "    path = os.path.join(json_file, list[i])"
   ]
  },
  {
   "cell_type": "code",
   "execution_count": 10,
   "metadata": {},
   "outputs": [],
   "source": [
    "import json\n",
    "\n",
    "import jsonschema\n",
    "\n",
    "import pkg_resources\n"
   ]
  },
  {
   "cell_type": "code",
   "execution_count": 18,
   "metadata": {},
   "outputs": [
    {
     "name": "stdout",
     "output_type": "stream",
     "text": [
      "{'type': 'array', '$schema': 'http://json-schema.org/draft-07/schema#', 'items': {'type': 'object', 'properties': {'image': {'type': 'object', 'properties': {'checksum': {'type': 'string'}, 'pathname': {'type': 'string'}, 'shape': {'type': 'object', 'properties': {'r': {'type': 'integer'}, 'c': {'type': 'integer'}, 'channels': {'type': 'integer'}}}, 'objects': {'type': 'array', 'items': {'type': 'object', 'properties': {'bounding_box': {'type': 'object', 'properties': {'minimum': {'type': 'object', 'properties': {'r': {'type': 'integer'}, 'c': {'type': 'integer'}}}, 'maximum': {'type': 'object', 'properties': {'r': {'type': 'integer'}, 'c': {'type': 'integer'}}}}}, 'category': {'type': 'string'}, 'mask': {'type': 'null'}}}}}}}}}\n"
     ]
    }
   ],
   "source": [
    "resource_path = \"/\".join([\"data\", \"schema.json\"])\n",
    "with open(pkg_resources.resource_filename(\"keras_rcnn\", resource_path)) as stream:\n",
    "        schema = json.load(stream)\n",
    "print(schema)"
   ]
  },
  {
   "cell_type": "code",
   "execution_count": 36,
   "metadata": {},
   "outputs": [],
   "source": [
    "resource_path = \"/\".join([\"data\", \"shape\", \"training.json\"])\n",
    "with open(pkg_resources.resource_filename(\"keras_rcnn\", resource_path)) as stream:\n",
    "        training_dictionary = json.load(stream)\n"
   ]
  },
  {
   "cell_type": "code",
   "execution_count": 27,
   "metadata": {},
   "outputs": [],
   "source": [
    "jsonschema.validate(training_dictionary, schema)"
   ]
  },
  {
   "cell_type": "code",
   "execution_count": 37,
   "metadata": {},
   "outputs": [],
   "source": [
    "for dictionary in training_dictionary:\n",
    "        resource_path = \"/\".join([\"data\", \"shape\", dictionary[\"image\"][\"pathname\"]])\n",
    "        pathname = pkg_resources.resource_filename(\"keras_rcnn\", resource_path)\n",
    "        dictionary[\"image\"][\"pathname\"] = pathname\n",
    "   "
   ]
  },
  {
   "cell_type": "code",
   "execution_count": null,
   "metadata": {},
   "outputs": [],
   "source": [
    "resource_path = \"/\".join([\"data\", \"shape\", \"test.json\"])"
   ]
  },
  {
   "cell_type": "code",
   "execution_count": null,
   "metadata": {},
   "outputs": [],
   "source": [
    "def load_data():\n",
    "    resource_path = \"/\".join([\"data\", \"schema.json\"])\n",
    "\n",
    "    with open(pkg_resources.resource_filename(\"keras_rcnn\", resource_path)) as stream:\n",
    "        schema = json.load(stream)\n",
    "\n",
    "    resource_path = \"/\".join([\"data\", \"shape\", \"training.json\"])\n",
    "\n",
    "    with open(pkg_resources.resource_filename(\"keras_rcnn\", resource_path)) as stream:\n",
    "        training_dictionary = json.load(stream)\n",
    "\n",
    "    jsonschema.validate(training_dictionary, schema)\n",
    "\n",
    "    for dictionary in training_dictionary:\n",
    "        resource_path = \"/\".join([\"data\", \"shape\", dictionary[\"image\"][\"pathname\"]])\n",
    "        pathname = pkg_resources.resource_filename(\"keras_rcnn\", resource_path)\n",
    "        dictionary[\"image\"][\"pathname\"] = pathname\n",
    "\n",
    "    resource_path = \"/\".join([\"data\", \"shape\", \"test.json\"])\n",
    "\n",
    "    with open(pkg_resources.resource_filename(\"keras_rcnn\", resource_path)) as stream:\n",
    "        test_dictionary = json.load(stream)\n",
    "\n",
    "    jsonschema.validate(test_dictionary, schema)\n",
    "\n",
    "    for dictionary in test_dictionary:\n",
    "        resource_path = \"/\".join([\"data\", \"shape\", dictionary[\"image\"][\"pathname\"]])\n",
    "        pathname = pkg_resources.resource_filename(\"keras_rcnn\", resource_path)\n",
    "        dictionary[\"image\"][\"pathname\"] = pathname\n",
    "\n",
    "    return training_dictionary, test_dictionary\n"
   ]
  },
  {
   "cell_type": "code",
   "execution_count": null,
   "metadata": {},
   "outputs": [],
   "source": []
  },
  {
   "cell_type": "code",
   "execution_count": 17,
   "metadata": {},
   "outputs": [],
   "source": [
    "import hashlib\n",
    "import json\n",
    "import os.path\n",
    "import shutil\n",
    "import uuid\n",
    "\n",
    "import skimage.draw\n",
    "import skimage.io\n"
   ]
  },
  {
   "cell_type": "code",
   "execution_count": 18,
   "metadata": {},
   "outputs": [],
   "source": [
    "def md5sum(pathname, blocksize=65536):\n",
    "    checksum = hashlib.md5()\n",
    "\n",
    "    with open(pathname, \"rb\") as stream:\n",
    "        for block in iter(lambda: stream.read(blocksize), b\"\"):\n",
    "            checksum.update(block)\n",
    "\n",
    "    return checksum.hexdigest()\n",
    "\n"
   ]
  },
  {
   "cell_type": "code",
   "execution_count": 19,
   "metadata": {},
   "outputs": [],
   "source": [
    "pathname = \"im\"\n",
    "\n",
    "if os.path.exists(pathname): shutil.rmtree(pathname)\n",
    "\n",
    "os.mkdir(pathname)\n",
    "\n",
    "groups = (\"training1\", \"test1\")\n",
    "\n",
    "r, c = 224, 224\n"
   ]
  },
  {
   "cell_type": "code",
   "execution_count": 20,
   "metadata": {},
   "outputs": [
    {
     "name": "stderr",
     "output_type": "stream",
     "text": [
      "D:\\Anaconda3\\lib\\site-packages\\skimage\\draw\\_random_shapes.py:349: UserWarning: Could not fit any shapes to image, consider reducing the minimum dimension\n",
      "  warn('Could not fit any shapes to image, '\n"
     ]
    },
    {
     "ename": "FileNotFoundError",
     "evalue": "[Errno 2] No such file or directory: 'scratch\\\\2619542e-37e6-4a43-9a51-eb0418e682ff.jpg'",
     "output_type": "error",
     "traceback": [
      "\u001b[1;31m---------------------------------------------------------------------------\u001b[0m",
      "\u001b[1;31mFileNotFoundError\u001b[0m                         Traceback (most recent call last)",
      "\u001b[1;32m<ipython-input-20-fdf91a7dc034>\u001b[0m in \u001b[0;36m<module>\u001b[1;34m\u001b[0m\n\u001b[0;32m     67\u001b[0m \u001b[1;33m\u001b[0m\u001b[0m\n\u001b[0;32m     68\u001b[0m \u001b[1;32mif\u001b[0m \u001b[0m__name__\u001b[0m \u001b[1;33m==\u001b[0m \u001b[1;34m\"__main__\"\u001b[0m\u001b[1;33m:\u001b[0m\u001b[1;33m\u001b[0m\u001b[0m\n\u001b[1;32m---> 69\u001b[1;33m     \u001b[0m__main__\u001b[0m\u001b[1;33m(\u001b[0m\u001b[1;33m)\u001b[0m\u001b[1;33m\u001b[0m\u001b[0m\n\u001b[0m",
      "\u001b[1;32m<ipython-input-20-fdf91a7dc034>\u001b[0m in \u001b[0;36m__main__\u001b[1;34m()\u001b[0m\n\u001b[0;32m     22\u001b[0m             \u001b[0mpathname\u001b[0m \u001b[1;33m=\u001b[0m \u001b[0mos\u001b[0m\u001b[1;33m.\u001b[0m\u001b[0mpath\u001b[0m\u001b[1;33m.\u001b[0m\u001b[0mjoin\u001b[0m\u001b[1;33m(\u001b[0m\u001b[1;34m\"scratch\"\u001b[0m\u001b[1;33m,\u001b[0m \u001b[0mfilename\u001b[0m\u001b[1;33m)\u001b[0m\u001b[1;33m\u001b[0m\u001b[0m\n\u001b[0;32m     23\u001b[0m \u001b[1;33m\u001b[0m\u001b[0m\n\u001b[1;32m---> 24\u001b[1;33m             \u001b[0mskimage\u001b[0m\u001b[1;33m.\u001b[0m\u001b[0mio\u001b[0m\u001b[1;33m.\u001b[0m\u001b[0mimsave\u001b[0m\u001b[1;33m(\u001b[0m\u001b[0mpathname\u001b[0m\u001b[1;33m,\u001b[0m \u001b[0mimage\u001b[0m\u001b[1;33m)\u001b[0m\u001b[1;33m\u001b[0m\u001b[0m\n\u001b[0m\u001b[0;32m     25\u001b[0m \u001b[1;33m\u001b[0m\u001b[0m\n\u001b[0;32m     26\u001b[0m             \u001b[1;32mif\u001b[0m \u001b[0mos\u001b[0m\u001b[1;33m.\u001b[0m\u001b[0mpath\u001b[0m\u001b[1;33m.\u001b[0m\u001b[0mexists\u001b[0m\u001b[1;33m(\u001b[0m\u001b[0mpathname\u001b[0m\u001b[1;33m)\u001b[0m\u001b[1;33m:\u001b[0m\u001b[1;33m\u001b[0m\u001b[0m\n",
      "\u001b[1;32mD:\\Anaconda3\\lib\\site-packages\\skimage\\io\\_io.py\u001b[0m in \u001b[0;36mimsave\u001b[1;34m(fname, arr, plugin, **plugin_args)\u001b[0m\n\u001b[0;32m    141\u001b[0m     \u001b[1;32mif\u001b[0m \u001b[0marr\u001b[0m\u001b[1;33m.\u001b[0m\u001b[0mdtype\u001b[0m \u001b[1;33m==\u001b[0m \u001b[0mbool\u001b[0m\u001b[1;33m:\u001b[0m\u001b[1;33m\u001b[0m\u001b[0m\n\u001b[0;32m    142\u001b[0m         \u001b[0mwarn\u001b[0m\u001b[1;33m(\u001b[0m\u001b[1;34m'%s is a boolean image: setting True to 1 and False to 0'\u001b[0m \u001b[1;33m%\u001b[0m \u001b[0mfname\u001b[0m\u001b[1;33m)\u001b[0m\u001b[1;33m\u001b[0m\u001b[0m\n\u001b[1;32m--> 143\u001b[1;33m     \u001b[1;32mreturn\u001b[0m \u001b[0mcall_plugin\u001b[0m\u001b[1;33m(\u001b[0m\u001b[1;34m'imsave'\u001b[0m\u001b[1;33m,\u001b[0m \u001b[0mfname\u001b[0m\u001b[1;33m,\u001b[0m \u001b[0marr\u001b[0m\u001b[1;33m,\u001b[0m \u001b[0mplugin\u001b[0m\u001b[1;33m=\u001b[0m\u001b[0mplugin\u001b[0m\u001b[1;33m,\u001b[0m \u001b[1;33m**\u001b[0m\u001b[0mplugin_args\u001b[0m\u001b[1;33m)\u001b[0m\u001b[1;33m\u001b[0m\u001b[0m\n\u001b[0m\u001b[0;32m    144\u001b[0m \u001b[1;33m\u001b[0m\u001b[0m\n\u001b[0;32m    145\u001b[0m \u001b[1;33m\u001b[0m\u001b[0m\n",
      "\u001b[1;32mD:\\Anaconda3\\lib\\site-packages\\skimage\\io\\manage_plugins.py\u001b[0m in \u001b[0;36mcall_plugin\u001b[1;34m(kind, *args, **kwargs)\u001b[0m\n\u001b[0;32m    212\u001b[0m                                (plugin, kind))\n\u001b[0;32m    213\u001b[0m \u001b[1;33m\u001b[0m\u001b[0m\n\u001b[1;32m--> 214\u001b[1;33m     \u001b[1;32mreturn\u001b[0m \u001b[0mfunc\u001b[0m\u001b[1;33m(\u001b[0m\u001b[1;33m*\u001b[0m\u001b[0margs\u001b[0m\u001b[1;33m,\u001b[0m \u001b[1;33m**\u001b[0m\u001b[0mkwargs\u001b[0m\u001b[1;33m)\u001b[0m\u001b[1;33m\u001b[0m\u001b[0m\n\u001b[0m\u001b[0;32m    215\u001b[0m \u001b[1;33m\u001b[0m\u001b[0m\n\u001b[0;32m    216\u001b[0m \u001b[1;33m\u001b[0m\u001b[0m\n",
      "\u001b[1;32mD:\\Anaconda3\\lib\\site-packages\\skimage\\io\\_plugins\\pil_plugin.py\u001b[0m in \u001b[0;36mimsave\u001b[1;34m(fname, arr, format_str, **kwargs)\u001b[0m\n\u001b[0;32m    258\u001b[0m \u001b[1;33m\u001b[0m\u001b[0m\n\u001b[0;32m    259\u001b[0m     \u001b[0mimg\u001b[0m \u001b[1;33m=\u001b[0m \u001b[0mndarray_to_pil\u001b[0m\u001b[1;33m(\u001b[0m\u001b[0marr\u001b[0m\u001b[1;33m,\u001b[0m \u001b[0mformat_str\u001b[0m\u001b[1;33m=\u001b[0m\u001b[0mformat_str\u001b[0m\u001b[1;33m)\u001b[0m\u001b[1;33m\u001b[0m\u001b[0m\n\u001b[1;32m--> 260\u001b[1;33m     \u001b[0mimg\u001b[0m\u001b[1;33m.\u001b[0m\u001b[0msave\u001b[0m\u001b[1;33m(\u001b[0m\u001b[0mfname\u001b[0m\u001b[1;33m,\u001b[0m \u001b[0mformat\u001b[0m\u001b[1;33m=\u001b[0m\u001b[0mformat_str\u001b[0m\u001b[1;33m,\u001b[0m \u001b[1;33m**\u001b[0m\u001b[0mkwargs\u001b[0m\u001b[1;33m)\u001b[0m\u001b[1;33m\u001b[0m\u001b[0m\n\u001b[0m",
      "\u001b[1;32mD:\\Anaconda3\\lib\\site-packages\\PIL\\Image.py\u001b[0m in \u001b[0;36msave\u001b[1;34m(self, fp, format, **params)\u001b[0m\n\u001b[0;32m   1925\u001b[0m             \u001b[1;31m# Open also for reading (\"+\"), because TIFF save_all\u001b[0m\u001b[1;33m\u001b[0m\u001b[1;33m\u001b[0m\u001b[0m\n\u001b[0;32m   1926\u001b[0m             \u001b[1;31m# writer needs to go back and edit the written data.\u001b[0m\u001b[1;33m\u001b[0m\u001b[1;33m\u001b[0m\u001b[0m\n\u001b[1;32m-> 1927\u001b[1;33m             \u001b[0mfp\u001b[0m \u001b[1;33m=\u001b[0m \u001b[0mbuiltins\u001b[0m\u001b[1;33m.\u001b[0m\u001b[0mopen\u001b[0m\u001b[1;33m(\u001b[0m\u001b[0mfilename\u001b[0m\u001b[1;33m,\u001b[0m \u001b[1;34m\"w+b\"\u001b[0m\u001b[1;33m)\u001b[0m\u001b[1;33m\u001b[0m\u001b[0m\n\u001b[0m\u001b[0;32m   1928\u001b[0m \u001b[1;33m\u001b[0m\u001b[0m\n\u001b[0;32m   1929\u001b[0m         \u001b[1;32mtry\u001b[0m\u001b[1;33m:\u001b[0m\u001b[1;33m\u001b[0m\u001b[0m\n",
      "\u001b[1;31mFileNotFoundError\u001b[0m: [Errno 2] No such file or directory: 'scratch\\\\2619542e-37e6-4a43-9a51-eb0418e682ff.jpg'"
     ]
    }
   ],
   "source": [
    "def __main__():\n",
    "    pathname = \"scratch1\"\n",
    "\n",
    "    if os.path.exists(pathname): shutil.rmtree(pathname)\n",
    "\n",
    "    os.mkdir(pathname)\n",
    "\n",
    "    groups = (\"training1\", \"test1\")\n",
    "\n",
    "    r, c = 224, 224\n",
    "\n",
    "    for group in groups:\n",
    "        dictionaries = []\n",
    "\n",
    "        for _ in range(256):\n",
    "            identifier = uuid.uuid4()\n",
    "\n",
    "            image, objects = skimage.draw.random_shapes((r, c), 32, 2, 32)\n",
    "\n",
    "            filename = \"{}.jpg\".format(identifier)\n",
    "\n",
    "            pathname = os.path.join(\"scratch\", filename)\n",
    "\n",
    "            skimage.io.imsave(pathname, image)\n",
    "\n",
    "            if os.path.exists(pathname):\n",
    "                dictionary = {\n",
    "                    \"image\": {\n",
    "                        \"checksum\": md5sum(pathname),\n",
    "                        \"pathname\": pathname,\n",
    "                        \"shape\": {\n",
    "                            \"r\": r,\n",
    "                            \"c\": c,\n",
    "                            \"channels\": 3\n",
    "                        }\n",
    "                    },\n",
    "                    \"objects\": []\n",
    "                }\n",
    "\n",
    "                for category, (bounding_box_r, bounding_box_c) in objects:\n",
    "                    minimum_r, maximum_r = bounding_box_r\n",
    "                    minimum_c, maximum_c = bounding_box_c\n",
    "\n",
    "                    object_dictionary = {\n",
    "                        \"bounding_box\": {\n",
    "                            \"minimum\": {\n",
    "                                \"r\": minimum_r - 1,\n",
    "                                \"c\": minimum_c - 1\n",
    "                            },\n",
    "                            \"maximum\": {\n",
    "                                \"r\": maximum_r - 1,\n",
    "                                \"c\": maximum_c - 1\n",
    "                            }\n",
    "                        },\n",
    "                        \"category\": category\n",
    "                    }\n",
    "\n",
    "                    dictionary[\"objects\"].append(object_dictionary)\n",
    "\n",
    "                dictionaries.append(dictionary)\n",
    "\n",
    "        filename = \"{}.json\".format(group)\n",
    "\n",
    "        with open(filename, \"w\") as stream:\n",
    "            json.dump(dictionaries, stream)\n",
    "\n",
    "\n",
    "if __name__ == \"__main__\":\n",
    "    __main__()\n"
   ]
  },
  {
   "cell_type": "code",
   "execution_count": null,
   "metadata": {},
   "outputs": [],
   "source": []
  },
  {
   "cell_type": "code",
   "execution_count": null,
   "metadata": {},
   "outputs": [],
   "source": []
  },
  {
   "cell_type": "code",
   "execution_count": null,
   "metadata": {},
   "outputs": [],
   "source": []
  },
  {
   "cell_type": "code",
   "execution_count": null,
   "metadata": {},
   "outputs": [],
   "source": []
  },
  {
   "cell_type": "code",
   "execution_count": null,
   "metadata": {},
   "outputs": [],
   "source": []
  },
  {
   "cell_type": "code",
   "execution_count": null,
   "metadata": {},
   "outputs": [],
   "source": []
  },
  {
   "cell_type": "code",
   "execution_count": null,
   "metadata": {},
   "outputs": [],
   "source": []
  },
  {
   "cell_type": "code",
   "execution_count": null,
   "metadata": {},
   "outputs": [],
   "source": []
  },
  {
   "cell_type": "code",
   "execution_count": null,
   "metadata": {},
   "outputs": [],
   "source": []
  }
 ],
 "metadata": {
  "kernelspec": {
   "display_name": "Python 3",
   "language": "python",
   "name": "python3"
  },
  "language_info": {
   "codemirror_mode": {
    "name": "ipython",
    "version": 3
   },
   "file_extension": ".py",
   "mimetype": "text/x-python",
   "name": "python",
   "nbconvert_exporter": "python",
   "pygments_lexer": "ipython3",
   "version": "3.6.3"
  }
 },
 "nbformat": 4,
 "nbformat_minor": 2
}
