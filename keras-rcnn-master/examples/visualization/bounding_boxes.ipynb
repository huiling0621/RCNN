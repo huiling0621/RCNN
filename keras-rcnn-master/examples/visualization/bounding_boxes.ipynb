{
 "cells": [
  {
   "cell_type": "code",
   "execution_count": 2,
   "metadata": {},
   "outputs": [
    {
     "name": "stderr",
     "output_type": "stream",
     "text": [
      "D:\\Anaconda3\\lib\\site-packages\\h5py\\__init__.py:34: FutureWarning: Conversion of the second argument of issubdtype from `float` to `np.floating` is deprecated. In future, it will be treated as `np.float64 == np.dtype(float).type`.\n",
      "  from ._conv import register_converters as _register_converters\n",
      "Using TensorFlow backend.\n"
     ]
    }
   ],
   "source": [
    "\"\"\"\n",
    "Bounding boxes\n",
    "==============\n",
    "\n",
    "A simple example for ploting two figures of a exponential\n",
    "function in order to test the autonomy of the gallery\n",
    "stacking multiple images.\n",
    "\"\"\"\n",
    "\n",
    "\n",
    "import numpy\n",
    "import keras_rcnn.datasets.shape\n",
    "import keras_rcnn.preprocessing\n",
    "import keras_rcnn.utils\n",
    "\n",
    "\n",
    "def main():\n",
    "    training_dictionary, test_dictionary = keras_rcnn.datasets.shape.load_data()\n",
    "\n",
    "    categories = {\"circle\": 1, \"rectangle\": 2, \"triangle\": 3}\n",
    "\n",
    "    generator = keras_rcnn.preprocessing.ObjectDetectionGenerator()\n",
    "\n",
    "    generator = generator.flow_from_dictionary(\n",
    "        dictionary=training_dictionary,\n",
    "        categories=categories,\n",
    "        target_size=(224, 224),\n",
    "        shuffle=False\n",
    "    )\n",
    "\n",
    "    target, _ = generator.next()\n",
    "\n",
    "    target_bounding_boxes, target_categories, target_images, target_masks, _ = target\n",
    "\n",
    "    target_bounding_boxes = numpy.squeeze(target_bounding_boxes)\n",
    "\n",
    "    target_images = numpy.squeeze(target_images)\n",
    "\n",
    "    target_categories = numpy.argmax(target_categories, -1)\n",
    "\n",
    "    target_categories = numpy.squeeze(target_categories)\n",
    "\n",
    "    keras_rcnn.utils.show_bounding_boxes(target_images, target_bounding_boxes, target_categories)\n",
    "\n",
    "\n",
    "if __name__ == '__main__':\n",
    "    main()\n",
    "\n",
    "\n"
   ]
  }
 ],
 "metadata": {
  "kernelspec": {
   "display_name": "Python 3",
   "language": "python",
   "name": "python3"
  },
  "language_info": {
   "codemirror_mode": {
    "name": "ipython",
    "version": 3
   },
   "file_extension": ".py",
   "mimetype": "text/x-python",
   "name": "python",
   "nbconvert_exporter": "python",
   "pygments_lexer": "ipython3",
   "version": "3.6.3"
  }
 },
 "nbformat": 4,
 "nbformat_minor": 2
}
